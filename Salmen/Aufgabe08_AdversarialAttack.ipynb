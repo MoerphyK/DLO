{
 "cells": [
  {
   "cell_type": "markdown",
   "metadata": {},
   "source": [
    "## Quelle: https://pytorch.org/tutorials/beginner/fgsm_tutorial.html"
   ]
  },
  {
   "cell_type": "code",
   "execution_count": 2,
   "metadata": {},
   "outputs": [],
   "source": [
    "import os\n",
    "from torch.utils.data import Dataset, DataLoader\n",
    "import torch\n",
    "import torch.nn as nn\n",
    "import torch.nn.functional as F\n",
    "import numpy as np\n",
    "from scipy.special import softmax\n",
    "import matplotlib.pyplot as plt\n",
    "device = \"cuda\" if torch.cuda.is_available() else \"cpu\"\n",
    "from torchvision import datasets\n",
    "from torch.optim import SGD\n",
    "from timeit import default_timer as timer\n",
    "from torch_snippets import *\n",
    "from torchvision import datasets, transforms\n",
    "from torchvision.utils import save_image\n",
    "from torchvision.datasets import ImageFolder\n",
    "from PIL import Image"
   ]
  },
  {
   "cell_type": "code",
   "execution_count": 3,
   "metadata": {},
   "outputs": [],
   "source": [
    "train_set = datasets.MNIST('data/', download=True, train=True)\n",
    "train_images = train_set.data\n",
    "train_targets = train_set.targets"
   ]
  },
  {
   "cell_type": "code",
   "execution_count": 4,
   "metadata": {},
   "outputs": [],
   "source": [
    "test_set = datasets.MNIST('data/', download=True, train=False)\n",
    "test_images = test_set.data\n",
    "test_targets = test_set.targets"
   ]
  },
  {
   "cell_type": "code",
   "execution_count": 5,
   "metadata": {},
   "outputs": [],
   "source": [
    "class MNISTDataset(Dataset):\n",
    "    def __init__(self, x, y):\n",
    "        x = x.float()/255\n",
    "        x = x.view(-1, 28*28)\n",
    "        self.x, self.y = x, y\n",
    "    def __getitem__(self, ix):\n",
    "        x, y = self.x[ix], self.y[ix]\n",
    "        return x.to(device), y.to(device)\n",
    "    def __len__(self):\n",
    "        return len(self.x)"
   ]
  },
  {
   "cell_type": "code",
   "execution_count": 6,
   "metadata": {},
   "outputs": [],
   "source": [
    "def get_data():\n",
    "    train = MNISTDataset(train_images, train_targets)\n",
    "    train_dl = DataLoader(train, batch_size=32, shuffle=True)\n",
    "    test = MNISTDataset(test_images, test_targets)\n",
    "    test_dl = DataLoader(test, batch_size=1, shuffle=True)\n",
    "    return train_dl, test_dl"
   ]
  },
  {
   "cell_type": "code",
   "execution_count": 7,
   "metadata": {},
   "outputs": [],
   "source": [
    "def get_model():\n",
    "    model = nn.Sequential(\n",
    "        nn.Linear(28 * 28, 40),\n",
    "        nn.Sigmoid(),\n",
    "        nn.Linear(40, 20),\n",
    "        nn.Sigmoid(),\n",
    "        nn.Linear(20, 10)\n",
    "    ).to(device)\n",
    "    loss_fn = nn.CrossEntropyLoss()\n",
    "    optimizer = SGD(model.parameters(), lr=1e-2)\n",
    "    return model, loss_fn, optimizer"
   ]
  },
  {
   "cell_type": "code",
   "execution_count": 8,
   "metadata": {},
   "outputs": [],
   "source": [
    "@torch.no_grad()\n",
    "def accuracy(x, y, model):\n",
    "    with torch.no_grad():\n",
    "        prediction = model(x)\n",
    "    max_values, argmaxes = prediction.max(-1)\n",
    "    is_correct = argmaxes == y\n",
    "    return is_correct.cpu().numpy().tolist()"
   ]
  },
  {
   "cell_type": "code",
   "execution_count": 9,
   "metadata": {},
   "outputs": [],
   "source": [
    "@torch.no_grad()\n",
    "def loss(x, y, model):\n",
    "    prediction = model(x)\n",
    "    loss = loss_fn(prediction, y)\n",
    "    return loss.item()"
   ]
  },
  {
   "cell_type": "code",
   "execution_count": null,
   "metadata": {},
   "outputs": [],
   "source": []
  },
  {
   "cell_type": "markdown",
   "metadata": {},
   "source": [
    "FGSM attack code"
   ]
  },
  {
   "cell_type": "code",
   "execution_count": 10,
   "metadata": {},
   "outputs": [],
   "source": [
    "def fgsm_attack(image, epsilon, data_grad):\n",
    "    # Collect the element-wise sign of the data gradient\n",
    "    sign_data_grad = data_grad.sign()\n",
    "    # Create the perturbed image by adjusting each pixel of the input image\n",
    "    perturbed_image = image + epsilon*sign_data_grad\n",
    "    # Adding clipping to maintain [0,1] range\n",
    "    perturbed_image = torch.clamp(perturbed_image, 0, 1)\n",
    "    # Return the perturbed image\n",
    "    return perturbed_image"
   ]
  },
  {
   "cell_type": "code",
   "execution_count": 10,
   "metadata": {},
   "outputs": [],
   "source": [
    "def test( model, device, test_loader, epsilon ):\n",
    "    # Accuracy counter\n",
    "    correct = 0\n",
    "    adv_examples = []\n",
    "\n",
    "    # Loop over all examples in test set\n",
    "    for data, target in test_loader:\n",
    "        # Send the data and label to the device\n",
    "        data, target = data.to(device), target.to(device)\n",
    "\n",
    "        # Set requires_grad attribute of tensor. Important for Attack\n",
    "        data.requires_grad = True\n",
    "\n",
    "        # Forward pass the data through the model\n",
    "        output = model(data)\n",
    "        init_pred = output.max(1, keepdim=True)[1] # get the index of the max log-probability\n",
    "\n",
    "        # If the initial prediction is wrong, dont bother attacking, just move on\n",
    "        if init_pred.item() != target.item():\n",
    "            continue\n",
    "\n",
    "        # Calculate the loss\n",
    "        loss = F.nll_loss(output, target)\n",
    "\n",
    "        # Zero all existing gradients\n",
    "        model.zero_grad()\n",
    "\n",
    "        # Calculate gradients of model in backward pass\n",
    "        loss.backward()\n",
    "\n",
    "        # Collect datagrad\n",
    "        data_grad = data.grad.data\n",
    "\n",
    "        # Call FGSM Attack\n",
    "        perturbed_data = fgsm_attack(data, epsilon, data_grad)\n",
    "\n",
    "        # Re-classify the perturbed image\n",
    "        output = model(perturbed_data)\n",
    "\n",
    "        # Check for success\n",
    "        final_pred = output.max(1, keepdim=True)[1] # get the index of the max log-probability\n",
    "        if final_pred.item() == target.item():\n",
    "            correct += 1\n",
    "        else:\n",
    "            # Save some adv examples for visualization later\n",
    "            if len(adv_examples) < 50:\n",
    "                print(\"Found another one!\")\n",
    "                advEx = perturbed_data.squeeze().detach().cpu().numpy()\n",
    "                origEx = data.squeeze().detach().cpu().numpy()\n",
    "                adv_examples.append( (init_pred.item(), final_pred.item(), origEx, advEx) )\n",
    "\n",
    "    # Calculate final accuracy for this epsilon\n",
    "    final_acc = correct/float(len(test_loader))\n",
    "    print(\"Epsilon: {}\\tTest Accuracy = {} / {} = {}\".format(epsilon, correct, len(test_loader), final_acc))\n",
    "\n",
    "    # Return the accuracy and an adversarial example\n",
    "    return adv_examples"
   ]
  },
  {
   "cell_type": "code",
   "execution_count": 11,
   "metadata": {},
   "outputs": [],
   "source": [
    "train_dl, test_dl = get_data()"
   ]
  },
  {
   "cell_type": "code",
   "execution_count": 12,
   "metadata": {},
   "outputs": [],
   "source": [
    "model, loss_fn, optimizer = get_model()"
   ]
  },
  {
   "cell_type": "code",
   "execution_count": 13,
   "metadata": {},
   "outputs": [],
   "source": [
    "model = model.to(device)"
   ]
  },
  {
   "cell_type": "markdown",
   "metadata": {},
   "source": [
    "## Quelle: https://codingvision.net/iterative-fgvm-targeted-adversarial-samples-traffic-sign-recognition"
   ]
  },
  {
   "cell_type": "code",
   "execution_count": 14,
   "metadata": {},
   "outputs": [
    {
     "name": "stdout",
     "output_type": "stream",
     "text": [
      "cntNoClass: 1  cntByClass: [0, 0, 0, 0, 0, 0, 0, 0, 0, 0]\n"
     ]
    }
   ],
   "source": [
    "model.load_state_dict(torch.load(\"nnMnist_40h_20h.ph\"))\n",
    "\n",
    "transform = T.Compose([    \n",
    "     T.ToTensor()\n",
    "])\n",
    "\n",
    "datasetRnd = ImageFolder('data/randMNIST', transform)\n",
    "\n",
    "dataloaderRnd = torch.utils.data.DataLoader(datasetRnd, batch_size=1, shuffle=True)\n",
    "\n",
    "cntNoClass = 0\n",
    "cntByClass = [0]*10\n",
    "\n",
    "for imageRnd, targetRnd in dataloaderRnd:\n",
    "    imageRnd = imageRnd.to(device)\n",
    "    #imageRnd [1,3,28,28]\n",
    "    imageRnd = imageRnd[:,0,:,:]\n",
    "    #imageRnd [1,28,28]\n",
    "    imageRnd = imageRnd.view(-1, 28*28)\n",
    "    #imageRnd [1,784]\n",
    " \n",
    "    output = model(imageRnd)\n",
    "    outputSM = softmax(output.cpu().detach().numpy())\n",
    "    \n",
    "    #print( f'img output: {output} outputSM: {outputSM}')\n",
    "    \n",
    "    if 0.5 < outputSM.max():      \n",
    "        cntNoClass += 1\n",
    "        \n",
    "        targetClass = 7\n",
    "        \n",
    "        imageOrig = imageRnd.detach().clone()\n",
    "        \n",
    "        firstIterAttackSucceeded = -1\n",
    "        \n",
    "        adversarial_targeted_class = torch.tensor([targetClass]).to(device)\n",
    "        adversarial_sample = imageRnd.requires_grad_() \n",
    "        adversarial_optimizer = torch.optim.Adam([adversarial_sample], lr=1e-3)\n",
    "        \n",
    "        for i in range(2000):\n",
    "            adversarial_optimizer.zero_grad()\n",
    "            prediction = model(adversarial_sample)\n",
    "            loss = torch.nn.CrossEntropyLoss()(prediction, adversarial_targeted_class)\n",
    "            \n",
    "             # this is the predicted class number\n",
    "            predicted_class = np.argmax(prediction.cpu().detach().numpy(), axis=1)\n",
    "\n",
    "            if targetClass==predicted_class and -1==firstIterAttackSucceeded:\n",
    "                imageSucc = adversarial_sample.detach().clone()\n",
    "                firstIterAttackSucceeded=i\n",
    "            \n",
    "            # updates gradient and backpropagates errors to the input\n",
    "            loss.backward()\n",
    "            adversarial_optimizer.step()\n",
    "            \n",
    "            # ensuring that the image is valid\n",
    "            adversarial_sample.data = torch.clamp(adversarial_sample.data, 0, 1)\n",
    "\n",
    "            #if i % 500 == 0:\n",
    "            #    plt.imshow(adversarial_sample.data.cpu().view(28,28), cmap='gray', vmin=0, vmax=1)\n",
    "            #    plt.show()\n",
    "\n",
    "            #    print('Predicted:', predicted_class[0])\n",
    "            #    print('Loss:', loss)\n",
    "        \n",
    "        if targetClass==predicted_class:\n",
    "            torchvision.utils.save_image( imageOrig.view(28,28), f\"adv{cntNoClass}_to{targetClass}_start.png\" )\n",
    "            torchvision.utils.save_image( imageSucc.view(28,28), f\"adv{cntNoClass}_to{targetClass}_succ{firstIterAttackSucceeded}.png\" )\n",
    "            torchvision.utils.save_image( adversarial_sample.view(28,28), f\"adv{cntNoClass}_to{targetClass}_optim.png\" )\n",
    "            break\n",
    "            \n",
    "    else:\n",
    "        currentClass = np.argmax(outputSM)\n",
    "        cntByClass[currentClass] += 1\n",
    "        \n",
    "print( f'cntNoClass: {cntNoClass}  cntByClass: {cntByClass}' )\n",
    "        \n",
    "#print(datasetRnd.class_to_idx)\n",
    "#print(datasetRnd.imgs)"
   ]
  },
  {
   "cell_type": "code",
   "execution_count": 15,
   "metadata": {},
   "outputs": [
    {
     "name": "stdout",
     "output_type": "stream",
     "text": [
      "Found another one!\n",
      "Found another one!\n",
      "Found another one!\n",
      "Found another one!\n",
      "Found another one!\n",
      "Found another one!\n",
      "Found another one!\n",
      "Found another one!\n",
      "Found another one!\n",
      "Found another one!\n",
      "Found another one!\n",
      "Found another one!\n",
      "Found another one!\n",
      "Found another one!\n",
      "Found another one!\n",
      "Found another one!\n",
      "Found another one!\n",
      "Found another one!\n",
      "Found another one!\n",
      "Found another one!\n",
      "Found another one!\n",
      "Found another one!\n",
      "Found another one!\n",
      "Found another one!\n",
      "Found another one!\n",
      "Found another one!\n",
      "Found another one!\n",
      "Found another one!\n",
      "Found another one!\n",
      "Found another one!\n",
      "Found another one!\n",
      "Found another one!\n",
      "Found another one!\n",
      "Found another one!\n",
      "Found another one!\n",
      "Found another one!\n",
      "Found another one!\n",
      "Found another one!\n",
      "Found another one!\n",
      "Found another one!\n",
      "Found another one!\n",
      "Found another one!\n",
      "Found another one!\n",
      "Found another one!\n",
      "Found another one!\n",
      "Found another one!\n",
      "Found another one!\n",
      "Found another one!\n",
      "Found another one!\n",
      "Found another one!\n",
      "Epsilon: 0.01\tTest Accuracy = 9232 / 10000 = 0.9232\n"
     ]
    }
   ],
   "source": [
    "eps = 0.01\n",
    "ex = test(model, device, test_dl, eps)"
   ]
  },
  {
   "cell_type": "code",
   "execution_count": 16,
   "metadata": {},
   "outputs": [],
   "source": [
    "for i in range(len(ex)):\n",
    "      currentResult = ex[i]\n",
    "      initPred = currentResult[0]\n",
    "      finalPred = currentResult[1]\n",
    "      origEx = currentResult[2]\n",
    "      advEx = currentResult[3]\n",
    "        \n",
    "      imagePath = \"./{}\".format(initPred)\n",
    "      if not os.path.exists(imagePath):\n",
    "          os.mkdir(imagePath)\n",
    "        \n",
    "      imAdv = Image.fromarray(255 * advEx.reshape((28,28)))\n",
    "      imAdv = imAdv.convert('RGB')\n",
    "      imAdv.save( \"{}/sample{}_eps{}_now{}__adv.png\".format(imagePath, i, eps, finalPred) )\n",
    "      diff = advEx - origEx\n",
    "        \n",
    "      imOrig = Image.fromarray(255 * origEx.reshape((28,28)))\n",
    "      imOrig = imOrig.convert('RGB')\n",
    "      imOrig.save( \"{}/sample{}_eps{}_now{}__orig.png\".format(imagePath, i, eps, finalPred) )"
   ]
  }
 ],
 "metadata": {
  "kernelspec": {
   "display_name": "Python 3 (ipykernel)",
   "language": "python",
   "name": "python3"
  },
  "language_info": {
   "codemirror_mode": {
    "name": "ipython",
    "version": 3
   },
   "file_extension": ".py",
   "mimetype": "text/x-python",
   "name": "python",
   "nbconvert_exporter": "python",
   "pygments_lexer": "ipython3",
   "version": "3.7.9"
  }
 },
 "nbformat": 4,
 "nbformat_minor": 2
}
