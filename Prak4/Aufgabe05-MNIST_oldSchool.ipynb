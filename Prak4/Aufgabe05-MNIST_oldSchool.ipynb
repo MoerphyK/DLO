{
 "cells": [
  {
   "cell_type": "code",
   "execution_count": 87,
   "metadata": {},
   "outputs": [],
   "source": [
    "from torch.utils.data import Dataset, DataLoader\n",
    "import torch\n",
    "import torch.nn as nn\n",
    "import numpy as np\n",
    "import matplotlib.pyplot as plt\n",
    "device = \"cuda\" if torch.cuda.is_available() else \"cpu\"\n",
    "from torchvision import datasets\n",
    "from torch.optim import SGD\n",
    "from timeit import default_timer as timer\n",
    "#from sklearn.metrics import confusion_matrix\n",
    "#import seaborn as sn\n",
    "#import pandas as pd\n",
    "#from pretty_confusion_matrix import pp_matrix\n",
    "#from pretty_confusion_matrix import pp_matrix_from_data"
   ]
  },
  {
   "cell_type": "markdown",
   "metadata": {},
   "source": [
    "Download and load the training data"
   ]
  },
  {
   "cell_type": "code",
   "execution_count": 88,
   "metadata": {},
   "outputs": [],
   "source": [
    "train_set = datasets.MNIST('data/', download=True, train=True)\n",
    "train_images = train_set.data\n",
    "train_targets = train_set.targets"
   ]
  },
  {
   "cell_type": "code",
   "execution_count": 89,
   "metadata": {},
   "outputs": [],
   "source": [
    "test_set = datasets.MNIST('data/', download=True, train=False)\n",
    "test_images = test_set.data\n",
    "test_targets = test_set.targets"
   ]
  },
  {
   "cell_type": "code",
   "execution_count": 90,
   "metadata": {},
   "outputs": [],
   "source": [
    "class MNISTDataset(Dataset):\n",
    "    def __init__(self, x, y):\n",
    "        x = x.float()/255\n",
    "        x = x.view(-1,28*28)\n",
    "        self.x, self.y = x, y\n",
    "    def __getitem__(self, ix):\n",
    "        x, y = self.x[ix], self.y[ix]\n",
    "        return x.to(device), y.to(device)\n",
    "    def __len__(self):\n",
    "        return len(self.x)"
   ]
  },
  {
   "cell_type": "code",
   "execution_count": 91,
   "metadata": {},
   "outputs": [],
   "source": [
    "def get_data():\n",
    "    train = MNISTDataset(train_images, train_targets)\n",
    "    train_dl = DataLoader(train, batch_size=32, shuffle=True)\n",
    "    test = MNISTDataset(test_images, test_targets)\n",
    "    test_dl = DataLoader(test, batch_size=len(test_images), shuffle=True)\n",
    "    return train_dl, test_dl"
   ]
  },
  {
   "cell_type": "code",
   "execution_count": 92,
   "metadata": {},
   "outputs": [],
   "source": [
    "def get_model():\n",
    "    model = nn.Sequential(\n",
    "        nn.Linear(28 * 28, 70),\n",
    "        nn.Sigmoid(),\n",
    "        nn.Linear(70, 35),\n",
    "        nn.Sigmoid(),\n",
    "        nn.Linear(35, 15),\n",
    "        nn.Sigmoid(),\n",
    "        nn.Linear(15, 10)\n",
    "    ).to(device)\n",
    "    loss_fn = nn.CrossEntropyLoss()\n",
    "    optimizer = SGD(model.parameters(), lr=8e-2)\n",
    "    return model, loss_fn, optimizer"
   ]
  },
  {
   "cell_type": "code",
   "execution_count": 93,
   "metadata": {},
   "outputs": [],
   "source": [
    "def train_batch(x, y, model, opt, loss_fn):\n",
    "    model.train()\n",
    "    prediction = model(x)\n",
    "    batch_loss = loss_fn(prediction, y)\n",
    "    batch_loss.backward()\n",
    "    optimizer.step()\n",
    "    optimizer.zero_grad()\n",
    "    return batch_loss.item()"
   ]
  },
  {
   "cell_type": "code",
   "execution_count": 94,
   "metadata": {},
   "outputs": [],
   "source": [
    "@torch.no_grad()\n",
    "def accuracy(x, y, model):\n",
    "    with torch.no_grad():\n",
    "        prediction = model(x)\n",
    "    max_values, argmaxes = prediction.max(-1)\n",
    "    is_correct = argmaxes == y\n",
    "    return is_correct.cpu().numpy().tolist()"
   ]
  },
  {
   "cell_type": "code",
   "execution_count": 95,
   "metadata": {},
   "outputs": [],
   "source": [
    "@torch.no_grad()\n",
    "def loss(x, y, model):\n",
    "    prediction = model(x)\n",
    "    loss = loss_fn(prediction, y)\n",
    "    return loss.item()"
   ]
  },
  {
   "cell_type": "code",
   "execution_count": 96,
   "metadata": {},
   "outputs": [],
   "source": [
    "train_dl, test_dl = get_data()\n",
    "model, loss_fn, optimizer = get_model()"
   ]
  },
  {
   "cell_type": "code",
   "execution_count": 97,
   "metadata": {},
   "outputs": [],
   "source": [
    "# ----------------------------------------------\n",
    "# Test >>>\n",
    "#\n",
    "#model.load_state_dict(torch.load(\"nnMnist_40h_20h.ph\", map_location='cpu'))\n",
    "\n",
    "#y_pred = []\n",
    "#y_true = []\n",
    "\n",
    "#for data, target in test_dl:\n",
    "#    data, target = data.to(device), target.to(device)\n",
    "#    output = model(data)\n",
    "#    pred = output.max(1, keepdim=True)[1] # get the index of the max log-probability\n",
    "    \n",
    "#    y_pred.extend(pred.data.cpu().numpy())\n",
    "#    y_true.extend(target.data.cpu().numpy())\n",
    "\n",
    "#pp_matrix_from_data(y_true, y_pred, cmap='viridis')"
   ]
  },
  {
   "cell_type": "code",
   "execution_count": 98,
   "metadata": {},
   "outputs": [
    {
     "name": "stdout",
     "output_type": "stream",
     "text": [
      "Starting training...\n",
      "epoch: 0  train_acc: 11.24%  test_acc: 11.35%\n",
      "epoch: 1  train_acc: 11.24%  test_acc: 11.35%\n",
      "epoch: 2  train_acc: 11.24%  test_acc: 11.35%\n",
      "epoch: 3  train_acc: 11.24%  test_acc: 11.35%\n",
      "epoch: 4  train_acc: 11.24%  test_acc: 11.35%\n",
      "epoch: 5  train_acc: 11.24%  test_acc: 11.35%\n",
      "epoch: 6  train_acc: 11.24%  test_acc: 11.35%\n",
      "epoch: 7  train_acc: 11.24%  test_acc: 11.35%\n",
      "epoch: 8  train_acc: 11.24%  test_acc: 11.35%\n",
      "epoch: 9  train_acc: 11.24%  test_acc: 11.35%\n",
      "epoch: 10  train_acc: 11.24%  test_acc: 11.35%\n",
      "epoch: 11  train_acc: 11.24%  test_acc: 11.35%\n",
      "epoch: 12  train_acc: 11.24%  test_acc: 11.35%\n",
      "epoch: 13  train_acc: 11.24%  test_acc: 11.35%\n",
      "epoch: 14  train_acc: 11.24%  test_acc: 11.35%\n",
      "epoch: 15  train_acc: 11.24%  test_acc: 11.35%\n",
      "epoch: 16  train_acc: 11.24%  test_acc: 11.35%\n",
      "epoch: 17  train_acc: 11.24%  test_acc: 11.35%\n",
      "epoch: 18  train_acc: 11.24%  test_acc: 11.35%\n",
      "epoch: 19  train_acc: 11.24%  test_acc: 11.35%\n",
      "epoch: 20  train_acc: 11.24%  test_acc: 11.35%\n",
      "epoch: 21  train_acc: 11.47%  test_acc: 11.69%\n",
      "epoch: 22  train_acc: 14.24%  test_acc: 14.51%\n",
      "epoch: 23  train_acc: 18.69%  test_acc: 18.77%\n",
      "epoch: 24  train_acc: 20.51%  test_acc: 20.76%\n",
      "epoch: 25  train_acc: 21.45%  test_acc: 21.42%\n",
      "epoch: 26  train_acc: 20.92%  test_acc: 21.05%\n",
      "epoch: 27  train_acc: 22.40%  test_acc: 22.46%\n",
      "epoch: 28  train_acc: 24.80%  test_acc: 24.70%\n",
      "epoch: 29  train_acc: 25.75%  test_acc: 25.65%\n",
      "epoch: 30  train_acc: 27.30%  test_acc: 26.96%\n",
      "epoch: 31  train_acc: 28.27%  test_acc: 28.15%\n",
      "epoch: 32  train_acc: 29.43%  test_acc: 29.16%\n",
      "epoch: 33  train_acc: 30.81%  test_acc: 30.44%\n",
      "epoch: 34  train_acc: 31.62%  test_acc: 31.03%\n",
      "epoch: 35  train_acc: 32.77%  test_acc: 32.39%\n",
      "epoch: 36  train_acc: 33.63%  test_acc: 33.13%\n",
      "epoch: 37  train_acc: 34.89%  test_acc: 34.76%\n",
      "epoch: 38  train_acc: 36.46%  test_acc: 36.04%\n",
      "epoch: 39  train_acc: 36.78%  test_acc: 37.09%\n"
     ]
    }
   ],
   "source": [
    "#----------------------------------------------\n",
    "# Training >>>\n",
    "#\n",
    "print('Starting training...')\n",
    "\n",
    "time0 = timer()\n",
    "\n",
    "epochs = 40\n",
    "\n",
    "arrPlotX = []\n",
    "train_losses, train_accuracies = [], []\n",
    "test_losses, test_accuracies = [], []\n",
    "for epoch in range(epochs):\n",
    "    train_epoch_losses, train_epoch_accuracies = [], []\n",
    "    for ix, batch in enumerate(iter(train_dl)):\n",
    "        x, y = batch\n",
    "        batch_loss = train_batch(x, y, model, optimizer, loss_fn)\n",
    "        train_epoch_losses.append(batch_loss)\n",
    "    train_epoch_loss = np.array(train_epoch_losses).mean()\n",
    "    for ix, batch in enumerate(iter(train_dl)):\n",
    "        x, y = batch\n",
    "        is_correct = accuracy(x, y, model)\n",
    "        train_epoch_accuracies.extend(is_correct)\n",
    "    train_epoch_accuracy = np.mean(train_epoch_accuracies)\n",
    "    for ix, batch in enumerate(iter(test_dl)):\n",
    "        x, y = batch\n",
    "        val_is_correct = accuracy(x, y, model)\n",
    "        validation_loss = loss(x, y, model)\n",
    "    val_epoch_accuracy = np.mean(val_is_correct)\n",
    "    arrPlotX.append(epoch)\n",
    "    train_losses.append(train_epoch_loss)\n",
    "    train_accuracies.append(train_epoch_accuracy)\n",
    "    test_losses.append(validation_loss)\n",
    "    test_accuracies.append(val_epoch_accuracy)\n",
    "    print( f\"epoch: {epoch}  train_acc: {100 * train_epoch_accuracy:.2f}%  test_acc: {100 * val_epoch_accuracy:.2f}%\" )\n",
    "    "
   ]
  },
  {
   "cell_type": "code",
   "execution_count": 99,
   "metadata": {},
   "outputs": [],
   "source": [
    "torch.save(model.state_dict(), \"nnMnist_40h_20h.ph\")"
   ]
  },
  {
   "cell_type": "code",
   "execution_count": 104,
   "metadata": {},
   "outputs": [
    {
     "data": {
      "image/png": "[encoded data removed]",
      "text/plain": [
       "<Figure size 432x288 with 1 Axes>"
      ]
     },
     "metadata": {
      "needs_background": "light"
     },
     "output_type": "display_data"
    },
    {
     "data": {
      "image/png": "[encoded data removed]",
      "text/plain": [
       "<Figure size 288x72 with 1 Axes>"
      ]
     },
     "metadata": {
      "needs_background": "light"
     },
     "output_type": "display_data"
    }
   ],
   "source": [
    "plt.xlabel(\"Epochs\")\n",
    "plt.ylabel(\"Accuracy\")\n",
    "\n",
    "plt.grid(color='black', linestyle='-', linewidth=0.5)\n",
    "plt.plot(arrPlotX, train_accuracies,\"b\",label='Training')\n",
    "# plt.legend()\n",
    "plt.plot(arrPlotX, test_accuracies,\"r\", label='Testing')\n",
    "plt.legend()\n",
    "\n",
    "plt.savefig(\"accuracies.png\")\n"
   ]
  }
 ],
 "metadata": {
  "kernelspec": {
   "display_name": "Python 3 (ipykernel)",
   "language": "python",
   "name": "python3"
  },
  "language_info": {
   "codemirror_mode": {
    "name": "ipython",
    "version": 3
   },
   "file_extension": ".py",
   "mimetype": "text/x-python",
   "name": "python",
   "nbconvert_exporter": "python",
   "pygments_lexer": "ipython3",
   "version": "3.9.12"
  }
 },
 "nbformat": 4,
 "nbformat_minor": 2
}
